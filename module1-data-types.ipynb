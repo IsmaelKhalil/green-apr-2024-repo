{
 "cells": [
  {
   "cell_type": "code",
   "execution_count": null,
   "id": "38f9d73d-45b4-4c1b-8131-db8057cba3d9",
   "metadata": {},
   "outputs": [],
   "source": [
    "speed = 4.5"
   ]
  },
  {
   "cell_type": "code",
   "execution_count": 3,
   "id": "dedceb82-ea6f-4131-8350-9e87c529f6f6",
   "metadata": {},
   "outputs": [],
   "source": [
    "age = 35"
   ]
  }
 ],
 "metadata": {
  "kernelspec": {
   "display_name": "Python 3 (ipykernel)",
   "language": "python",
   "name": "python3"
  },
  "language_info": {
   "codemirror_mode": {
    "name": "ipython",
    "version": 3
   },
   "file_extension": ".py",
   "mimetype": "text/x-python",
   "name": "python",
   "nbconvert_exporter": "python",
   "pygments_lexer": "ipython3",
   "version": "3.11.7"
  }
 },
 "nbformat": 4,
 "nbformat_minor": 5
}
