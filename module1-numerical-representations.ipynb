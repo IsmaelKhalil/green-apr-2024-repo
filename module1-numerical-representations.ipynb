{
 "cells": [
  {
   "cell_type": "code",
   "execution_count": 1,
   "id": "5a8d8952-790c-40b4-869a-9e4528c505e5",
   "metadata": {},
   "outputs": [
    {
     "data": {
      "text/plain": [
       "12000300"
      ]
     },
     "execution_count": 1,
     "metadata": {},
     "output_type": "execute_result"
    }
   ],
   "source": [
    "# underscores in numbers\n",
    "12000300\n",
    "12_000_300"
   ]
  },
  {
   "cell_type": "code",
   "execution_count": 3,
   "id": "c2dc3321-0331-45f7-97bf-2ac4ce3a84f6",
   "metadata": {},
   "outputs": [
    {
     "name": "stdout",
     "output_type": "stream",
     "text": [
      "3e-13\n"
     ]
    }
   ],
   "source": [
    "print(0.0000000000003)"
   ]
  },
  {
   "cell_type": "code",
   "execution_count": null,
   "id": "0eb4ba40-736f-4f9c-aebc-657e8951ec64",
   "metadata": {},
   "outputs": [],
   "source": []
  }
 ],
 "metadata": {
  "kernelspec": {
   "display_name": "Python 3 (ipykernel)",
   "language": "python",
   "name": "python3"
  },
  "language_info": {
   "codemirror_mode": {
    "name": "ipython",
    "version": 3
   },
   "file_extension": ".py",
   "mimetype": "text/x-python",
   "name": "python",
   "nbconvert_exporter": "python",
   "pygments_lexer": "ipython3",
   "version": "3.11.7"
  }
 },
 "nbformat": 4,
 "nbformat_minor": 5
}
