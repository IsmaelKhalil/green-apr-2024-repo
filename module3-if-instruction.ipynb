{
 "cells": [
  {
   "cell_type": "code",
   "execution_count": 8,
   "id": "4cf3c060-4a1b-4d1c-afa1-aa2a8dd2f2a6",
   "metadata": {},
   "outputs": [
    {
     "name": "stdin",
     "output_type": "stream",
     "text": [
      "What is your age?  29\n"
     ]
    },
    {
     "name": "stdout",
     "output_type": "stream",
     "text": [
      "You are 30 years old or younger\n",
      "Congratulations, you qualify\n"
     ]
    }
   ],
   "source": [
    "user_age = int(input('What is your age? '))\n",
    "if user_age > 30:\n",
    "    print('You are over 30 years old')\n",
    "    print('Sorry, you do not qualify')\n",
    "elif user_age == 30:\n",
    "    print('You are over 30 years old')\n",
    "    print('Sorry, you do not qualify')\n",
    "else:\n",
    "    print('You are 30 years old or younger')\n",
    "    print('Congratulations, you qualify')"
   ]
  },
  {
   "cell_type": "code",
   "execution_count": null,
   "id": "3add353a-8222-4cd7-9308-7dc85479d606",
   "metadata": {},
   "outputs": [],
   "source": []
  }
 ],
 "metadata": {
  "kernelspec": {
   "display_name": "Python 3 (ipykernel)",
   "language": "python",
   "name": "python3"
  },
  "language_info": {
   "codemirror_mode": {
    "name": "ipython",
    "version": 3
   },
   "file_extension": ".py",
   "mimetype": "text/x-python",
   "name": "python",
   "nbconvert_exporter": "python",
   "pygments_lexer": "ipython3",
   "version": "3.11.7"
  }
 },
 "nbformat": 4,
 "nbformat_minor": 5
}
