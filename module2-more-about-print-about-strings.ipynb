{
 "cells": [
  {
   "cell_type": "code",
   "execution_count": 2,
   "id": "e1f6537f-08d3-46a7-8bed-86f8e0654f75",
   "metadata": {},
   "outputs": [
    {
     "data": {
      "text/plain": [
       "6"
      ]
     },
     "execution_count": 2,
     "metadata": {},
     "output_type": "execute_result"
    }
   ],
   "source": [
    "len('Hello!')"
   ]
  },
  {
   "cell_type": "code",
   "execution_count": 4,
   "id": "6a551258-6475-4a0d-9c18-d445c8d66595",
   "metadata": {},
   "outputs": [
    {
     "name": "stdout",
     "output_type": "stream",
     "text": [
      "Hello, World!\n",
      "Python speaking!\n"
     ]
    }
   ],
   "source": [
    "print('Hello, World!')\n",
    "print('Python speaking!')"
   ]
  },
  {
   "cell_type": "code",
   "execution_count": 5,
   "id": "a69b4863-8c40-498d-b5a0-31762849763d",
   "metadata": {},
   "outputs": [
    {
     "name": "stdout",
     "output_type": "stream",
     "text": [
      "Hello, World!.Python speaking!\n"
     ]
    }
   ],
   "source": [
    "print('Hello, World!', end = '.')\n",
    "print('Python speaking!')"
   ]
  },
  {
   "cell_type": "code",
   "execution_count": null,
   "id": "2936a61b-7b8d-48d0-aac6-f57493dec96d",
   "metadata": {},
   "outputs": [],
   "source": [
    "print('Hello, World!', sep = '')\n",
    "print('Python speaking!')"
   ]
  }
 ],
 "metadata": {
  "kernelspec": {
   "display_name": "Python 3 (ipykernel)",
   "language": "python",
   "name": "python3"
  },
  "language_info": {
   "codemirror_mode": {
    "name": "ipython",
    "version": 3
   },
   "file_extension": ".py",
   "mimetype": "text/x-python",
   "name": "python",
   "nbconvert_exporter": "python",
   "pygments_lexer": "ipython3",
   "version": "3.11.7"
  }
 },
 "nbformat": 4,
 "nbformat_minor": 5
}
