{
 "cells": [
  {
   "cell_type": "code",
   "execution_count": 2,
   "id": "c2ea79af-625f-4a02-a13b-b329c6b84967",
   "metadata": {},
   "outputs": [
    {
     "name": "stdin",
     "output_type": "stream",
     "text": [
      "What is your age?  26\n",
      "What is your country?  Germany\n"
     ]
    },
    {
     "name": "stdout",
     "output_type": "stream",
     "text": [
      "Sorry, you do not qualify\n"
     ]
    }
   ],
   "source": [
    "user_age = int(input('What is your age? '))\n",
    "user_country = input('What is your country? ')\n",
    "\n",
    "if user_age < 25 and user_country == 'Germany':\n",
    "    print('You can apply for a German student exchange program')\n",
    "else:\n",
    "    print('Sorry, you do not qualify')"
   ]
  },
  {
   "cell_type": "code",
   "execution_count": 4,
   "id": "8e868f1b-da1b-4ab0-bd85-64ee9970ad7c",
   "metadata": {},
   "outputs": [
    {
     "name": "stdin",
     "output_type": "stream",
     "text": [
      "What is your country?  Sweden\n"
     ]
    },
    {
     "name": "stdout",
     "output_type": "stream",
     "text": [
      "You can apply for a Scandinavian student exchange program\n"
     ]
    }
   ],
   "source": [
    "user_country = input('What is your country? ')\n",
    "\n",
    "if user_country == 'Sweden' or user_country == 'Denmark' or user_country == 'Norway':\n",
    "    print('You can apply for a Scandinavian student exchange program')\n",
    "else:\n",
    "    print('Sorry, you do not qualify')"
   ]
  },
  {
   "cell_type": "code",
   "execution_count": 6,
   "id": "42b34452-f1f7-4259-90c1-76b0ba41b6f6",
   "metadata": {},
   "outputs": [
    {
     "name": "stdin",
     "output_type": "stream",
     "text": [
      "What is your country?  Germany\n"
     ]
    },
    {
     "name": "stdout",
     "output_type": "stream",
     "text": [
      "You are from Germany\n"
     ]
    }
   ],
   "source": [
    "user_country = input('What is your country? ')\n",
    "if not user_country == 'Germany':\n",
    "    print('You are not from Germany')\n",
    "else:\n",
    "    print('You are from Germany')"
   ]
  },
  {
   "cell_type": "code",
   "execution_count": 12,
   "id": "0e5ecf93-0297-494a-a043-1e235064f12b",
   "metadata": {},
   "outputs": [
    {
     "name": "stdin",
     "output_type": "stream",
     "text": [
      "What is your age?  23\n",
      "What is your country?  Thailand\n"
     ]
    },
    {
     "name": "stdout",
     "output_type": "stream",
     "text": [
      "You qualify\n"
     ]
    }
   ],
   "source": [
    "user_age = int(input('What is your age? '))\n",
    "user_country = input('What is your country? ')\n",
    "\n",
    "if not user_country == 'Germany' and user_age < 25 or user_country == 'Germany' and user_age < 23:\n",
    "    print('You qualify')\n",
    "else:\n",
    "    print('Sorry, you do not qualify')"
   ]
  },
  {
   "cell_type": "code",
   "execution_count": null,
   "id": "91b29949-1ebd-42db-a5af-6b928808abae",
   "metadata": {},
   "outputs": [],
   "source": []
  }
 ],
 "metadata": {
  "kernelspec": {
   "display_name": "Python 3 (ipykernel)",
   "language": "python",
   "name": "python3"
  },
  "language_info": {
   "codemirror_mode": {
    "name": "ipython",
    "version": 3
   },
   "file_extension": ".py",
   "mimetype": "text/x-python",
   "name": "python",
   "nbconvert_exporter": "python",
   "pygments_lexer": "ipython3",
   "version": "3.11.7"
  }
 },
 "nbformat": 4,
 "nbformat_minor": 5
}
