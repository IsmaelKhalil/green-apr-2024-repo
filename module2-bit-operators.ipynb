{
 "cells": [
  {
   "cell_type": "code",
   "execution_count": 3,
   "id": "f9cd4ef2-0a2b-4b12-8564-5dca83c61f17",
   "metadata": {},
   "outputs": [
    {
     "name": "stdout",
     "output_type": "stream",
     "text": [
      "0\n"
     ]
    }
   ],
   "source": [
    "first_bit = 1\n",
    "second_bit = 0\n",
    "\n",
    "print(first_bit & second_bit)\n",
    "#both need to equal 1, otherwise it will be 0"
   ]
  },
  {
   "cell_type": "code",
   "execution_count": 4,
   "id": "f182f965-e50d-4727-9309-1775cdb4a7a2",
   "metadata": {},
   "outputs": [
    {
     "name": "stdout",
     "output_type": "stream",
     "text": [
      "1\n"
     ]
    }
   ],
   "source": [
    "first_bit = 1\n",
    "second_bit = 0\n",
    "\n",
    "print(first_bit | second_bit)\n",
    "#either of them needs to equal 1"
   ]
  },
  {
   "cell_type": "code",
   "execution_count": 5,
   "id": "5bc28593-1cd5-4134-ba95-2857b4ac71f1",
   "metadata": {},
   "outputs": [
    {
     "name": "stdout",
     "output_type": "stream",
     "text": [
      "1\n"
     ]
    }
   ],
   "source": [
    "first_bit = 1\n",
    "second_bit = 0\n",
    "\n",
    "print(first_bit ^ second_bit)\n",
    "#both of them must be exclusive/unique, if both are 0 or 1, then it will be 0"
   ]
  },
  {
   "cell_type": "code",
   "execution_count": 7,
   "id": "5ec701ff-a8cb-4492-8e17-7c8c04c2fc35",
   "metadata": {},
   "outputs": [
    {
     "name": "stdout",
     "output_type": "stream",
     "text": [
      "-2\n",
      "-1\n"
     ]
    }
   ],
   "source": [
    "print(~1)\n",
    "print(~0)\n",
    "#~x = -x - 1"
   ]
  },
  {
   "cell_type": "code",
   "execution_count": 15,
   "id": "dbb0704d-75d2-46e4-9caf-a24afb944f9b",
   "metadata": {},
   "outputs": [
    {
     "data": {
      "text/plain": [
       "24"
      ]
     },
     "execution_count": 15,
     "metadata": {},
     "output_type": "execute_result"
    }
   ],
   "source": [
    "12 << 1\n",
    "# right shift, times 2^1"
   ]
  },
  {
   "cell_type": "code",
   "execution_count": 17,
   "id": "fd672984-d893-4079-9108-606b38a2b2a7",
   "metadata": {},
   "outputs": [
    {
     "data": {
      "text/plain": [
       "48"
      ]
     },
     "execution_count": 17,
     "metadata": {},
     "output_type": "execute_result"
    }
   ],
   "source": [
    "12 << 2\n",
    "# right shift, times 2^2"
   ]
  },
  {
   "cell_type": "code",
   "execution_count": 10,
   "id": "7a68bd3e-2efb-447f-95f0-c9b5c9bba6cd",
   "metadata": {},
   "outputs": [
    {
     "data": {
      "text/plain": [
       "12"
      ]
     },
     "execution_count": 10,
     "metadata": {},
     "output_type": "execute_result"
    }
   ],
   "source": [
    "12 << 0"
   ]
  },
  {
   "cell_type": "code",
   "execution_count": 18,
   "id": "1289104e-bd3e-4cc8-9145-a0e786acf4b4",
   "metadata": {},
   "outputs": [
    {
     "data": {
      "text/plain": [
       "6"
      ]
     },
     "execution_count": 18,
     "metadata": {},
     "output_type": "execute_result"
    }
   ],
   "source": [
    "12 >> 1\n",
    "# left shift, divided by 2^1"
   ]
  },
  {
   "cell_type": "code",
   "execution_count": 19,
   "id": "33a97e40-e1a6-43cd-8d39-752eeee5bd37",
   "metadata": {},
   "outputs": [
    {
     "data": {
      "text/plain": [
       "3"
      ]
     },
     "execution_count": 19,
     "metadata": {},
     "output_type": "execute_result"
    }
   ],
   "source": [
    "12 >> 2\n",
    "# left shift, divided 2^2"
   ]
  },
  {
   "cell_type": "code",
   "execution_count": null,
   "id": "613b00fe-9178-49b0-a938-07f562011241",
   "metadata": {},
   "outputs": [],
   "source": []
  }
 ],
 "metadata": {
  "kernelspec": {
   "display_name": "Python 3 (ipykernel)",
   "language": "python",
   "name": "python3"
  },
  "language_info": {
   "codemirror_mode": {
    "name": "ipython",
    "version": 3
   },
   "file_extension": ".py",
   "mimetype": "text/x-python",
   "name": "python",
   "nbconvert_exporter": "python",
   "pygments_lexer": "ipython3",
   "version": "3.11.7"
  }
 },
 "nbformat": 4,
 "nbformat_minor": 5
}
