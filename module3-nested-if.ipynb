{
 "cells": [
  {
   "cell_type": "code",
   "execution_count": 2,
   "id": "295981e0-221a-4d0e-99f6-9733df9f3464",
   "metadata": {},
   "outputs": [
    {
     "name": "stdin",
     "output_type": "stream",
     "text": [
      "Do you like travelling? y/n:  n\n"
     ]
    },
    {
     "name": "stdout",
     "output_type": "stream",
     "text": [
      "Sorry to hear that\n"
     ]
    }
   ],
   "source": [
    "answer_a = input('Do you like travelling? y/n: ')\n",
    "\n",
    "if answer_a == 'y':\n",
    "    answer_b = input('And do you like Asia? y/n: ')\n",
    "    if answer_b == 'y':\n",
    "        print('Excellent! You can win a ticket to Thailand!')\n",
    "    else:\n",
    "        print('Sorry to hear that\n",
    "else:\n",
    "    print('Sorry to hear that')"
   ]
  },
  {
   "cell_type": "code",
   "execution_count": 4,
   "id": "b709c5f7-9886-4346-842e-e5838fb8205a",
   "metadata": {},
   "outputs": [
    {
     "name": "stdin",
     "output_type": "stream",
     "text": [
      "How many days ago have you purchased the item?  9\n",
      "Have you used the item at all [y/n]?  n\n",
      "Has the item broken down on its own [y/n]?  y\n"
     ]
    },
    {
     "name": "stdout",
     "output_type": "stream",
     "text": [
      "You can get a refund.\n"
     ]
    }
   ],
   "source": [
    "days = int(input('How many days ago have you purchased the item? '))\n",
    "\n",
    "if days < 10:\n",
    "    used = input('Have you used the item at all [y/n]? ')\n",
    "    if used == 'n':\n",
    "        broken = input('Has the item broken down on its own [y/n]? ')\n",
    "        if broken == 'y':\n",
    "            print('You can get a refund.')\n",
    "        else:\n",
    "            print('You cannot get a refund.')\n",
    "    else:\n",
    "        print('You cannot get a refund.')\n",
    "else:\n",
    "    print('You cannot get a refund.')"
   ]
  },
  {
   "cell_type": "code",
   "execution_count": null,
   "id": "50504383-254e-4f29-8b7c-53aa149fbbae",
   "metadata": {},
   "outputs": [],
   "source": []
  }
 ],
 "metadata": {
  "kernelspec": {
   "display_name": "Python 3 (ipykernel)",
   "language": "python",
   "name": "python3"
  },
  "language_info": {
   "codemirror_mode": {
    "name": "ipython",
    "version": 3
   },
   "file_extension": ".py",
   "mimetype": "text/x-python",
   "name": "python",
   "nbconvert_exporter": "python",
   "pygments_lexer": "ipython3",
   "version": "3.11.7"
  }
 },
 "nbformat": 4,
 "nbformat_minor": 5
}
