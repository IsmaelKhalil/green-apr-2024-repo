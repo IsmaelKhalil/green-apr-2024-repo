{
 "cells": [
  {
   "cell_type": "code",
   "execution_count": 3,
   "id": "de0f3964-affb-4599-ae69-d0962482853d",
   "metadata": {},
   "outputs": [
    {
     "name": "stdout",
     "output_type": "stream",
     "text": [
      "Hello, friend!\n",
      "Hi, everybody!\n"
     ]
    }
   ],
   "source": [
    "greeting = 'Hello, friend!'\n",
    "print(greeting)\n",
    "greeting = 'Hi, everybody!'\n",
    "print(greeting)"
   ]
  },
  {
   "cell_type": "code",
   "execution_count": null,
   "id": "76123ad2-e579-43dc-8624-0d3f387312e6",
   "metadata": {},
   "outputs": [],
   "source": []
  }
 ],
 "metadata": {
  "kernelspec": {
   "display_name": "Python 3 (ipykernel)",
   "language": "python",
   "name": "python3"
  },
  "language_info": {
   "codemirror_mode": {
    "name": "ipython",
    "version": 3
   },
   "file_extension": ".py",
   "mimetype": "text/x-python",
   "name": "python",
   "nbconvert_exporter": "python",
   "pygments_lexer": "ipython3",
   "version": "3.11.7"
  }
 },
 "nbformat": 4,
 "nbformat_minor": 5
}
