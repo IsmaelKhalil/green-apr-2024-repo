{
 "cells": [
  {
   "cell_type": "code",
   "execution_count": 5,
   "id": "8296af23-a93d-4d2f-af0b-2d73260ae074",
   "metadata": {},
   "outputs": [
    {
     "name": "stdin",
     "output_type": "stream",
     "text": [
      "Do you know the secret password?  --secret\n"
     ]
    },
    {
     "name": "stdout",
     "output_type": "stream",
     "text": [
      "correct\n"
     ]
    }
   ],
   "source": [
    "password = input('Do you know the secret password? ')\n",
    "if password != '--secret':\n",
    "    print('incorrect')\n",
    "else:\n",
    "    print('correct')"
   ]
  },
  {
   "cell_type": "code",
   "execution_count": 6,
   "id": "3eaaae67-7946-421b-819e-7307d5e7427c",
   "metadata": {},
   "outputs": [
    {
     "name": "stdout",
     "output_type": "stream",
     "text": [
      "Condition met\n"
     ]
    }
   ],
   "source": [
    "if True:\n",
    "    print('Condition met')"
   ]
  },
  {
   "cell_type": "code",
   "execution_count": 7,
   "id": "73386853-4d06-4592-ab61-bad3730850a2",
   "metadata": {},
   "outputs": [],
   "source": [
    "if False:\n",
    "    print('Condition met')"
   ]
  },
  {
   "cell_type": "code",
   "execution_count": null,
   "id": "cb694a4a-0739-431d-bf3f-26a3dfa9a4eb",
   "metadata": {},
   "outputs": [],
   "source": []
  }
 ],
 "metadata": {
  "kernelspec": {
   "display_name": "Python 3 (ipykernel)",
   "language": "python",
   "name": "python3"
  },
  "language_info": {
   "codemirror_mode": {
    "name": "ipython",
    "version": 3
   },
   "file_extension": ".py",
   "mimetype": "text/x-python",
   "name": "python",
   "nbconvert_exporter": "python",
   "pygments_lexer": "ipython3",
   "version": "3.11.7"
  }
 },
 "nbformat": 4,
 "nbformat_minor": 5
}
